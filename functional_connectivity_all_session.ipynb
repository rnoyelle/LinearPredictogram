{
 "cells": [
  {
   "cell_type": "code",
   "execution_count": 1,
   "metadata": {},
   "outputs": [
    {
     "data": {
      "text/plain": [
       "'\"\\nfunctionnal connectivity channel to channel \\n'"
      ]
     },
     "execution_count": 1,
     "metadata": {},
     "output_type": "execute_result"
    }
   ],
   "source": [
    "\"\"\"\"\n",
    "functionnal connectivity channel to channel \n",
    "\"\"\""
   ]
  },
  {
   "cell_type": "code",
   "execution_count": 2,
   "metadata": {},
   "outputs": [],
   "source": [
    "import lib.cnn.matnpyio as io\n",
    "import numpy as np"
   ]
  },
  {
   "cell_type": "code",
   "execution_count": 3,
   "metadata": {},
   "outputs": [],
   "source": [
    "import matplotlib.pyplot as plt"
   ]
  },
  {
   "cell_type": "code",
   "execution_count": 4,
   "metadata": {},
   "outputs": [],
   "source": [
    "import os"
   ]
  },
  {
   "cell_type": "code",
   "execution_count": 5,
   "metadata": {},
   "outputs": [],
   "source": [
    "import collections\n",
    "import pandas as pd"
   ]
  },
  {
   "cell_type": "code",
   "execution_count": 6,
   "metadata": {},
   "outputs": [],
   "source": [
    "import re"
   ]
  },
  {
   "cell_type": "code",
   "execution_count": 7,
   "metadata": {},
   "outputs": [],
   "source": [
    "from mpl_toolkits.axes_grid1 import make_axes_locatable"
   ]
  },
  {
   "cell_type": "code",
   "execution_count": 8,
   "metadata": {},
   "outputs": [],
   "source": [
    "result_path =  '/home/rudy/Python2/regression_linear/result2/' "
   ]
  },
  {
   "cell_type": "code",
   "execution_count": 9,
   "metadata": {},
   "outputs": [],
   "source": [
    "file_names = os.listdir(result_path)"
   ]
  },
  {
   "cell_type": "code",
   "execution_count": 10,
   "metadata": {
    "scrolled": true
   },
   "outputs": [
    {
     "data": {
      "text/plain": [
       "['result_sess_no_141017channel_to_channel_all_interval_with_error_bar.csv',\n",
       " 'result_sess_no_150126channel_to_channel_all_interval_with_error_bar.csv',\n",
       " 'result_sess_no_150304channel_to_channel_all_interval_with_error_bar.csv',\n",
       " 'result_sess_no_150305channel_to_channel_all_interval_with_error_bar.csv',\n",
       " 'result_sess_no_150217channel_to_channel_all_interval_with_error_bar.csv',\n",
       " 'result_sess_no_150427channel_to_channel_all_interval_with_error_bar.csv',\n",
       " 'result_sess_no_141126channel_to_channel_all_interval_with_error_bar.csv',\n",
       " 'result_sess_no_141208channel_to_channel_all_interval_with_error_bar.csv',\n",
       " 'result_sess_no_150210channel_to_channel_all_interval_with_error_bar.csv',\n",
       " 'result_sess_no_141216channel_to_channel_all_interval_with_error_bar.csv',\n",
       " 'result_sess_no_141212channel_to_channel_all_interval_with_error_bar.csv',\n",
       " 'result_sess_no_141125channel_to_channel_all_interval_with_error_bar.csv',\n",
       " 'result_sess_no_150504channel_to_channel_all_interval_with_error_bar.csv',\n",
       " 'result_sess_no_141029channel_to_channel_all_interval_with_error_bar.csv',\n",
       " 'result_sess_no_150416channel_to_channel_all_interval_with_error_bar.csv',\n",
       " 'result_sess_no_150223channel_to_channel_all_interval_with_error_bar.csv',\n",
       " 'result_sess_no_150227channel_to_channel_all_interval_with_error_bar.csv',\n",
       " 'result_sess_no_141127channel_to_channel_all_interval_with_error_bar.csv',\n",
       " 'result_sess_no_150302channel_to_channel_all_interval_with_error_bar.csv',\n",
       " 'result_sess_no_141015channel_to_channel_all_interval_with_error_bar.csv',\n",
       " 'result_sess_no_141209channel_to_channel_all_interval_with_error_bar.csv',\n",
       " 'result_sess_no_150428channel_to_channel_all_interval_with_error_bar.csv',\n",
       " 'result_sess_no_150303channel_to_channel_all_interval_with_error_bar.csv',\n",
       " 'result_sess_no_141211channel_to_channel_all_interval_with_error_bar.csv',\n",
       " 'result_sess_no_141128channel_to_channel_all_interval_with_error_bar.csv',\n",
       " 'result_sess_no_141205channel_to_channel_all_interval_with_error_bar.csv',\n",
       " 'result_sess_no_150205channel_to_channel_all_interval_with_error_bar.csv',\n",
       " 'result_sess_no_150407channel_to_channel_all_interval_with_error_bar.csv',\n",
       " 'result_sess_no_141202channel_to_channel_all_interval_with_error_bar.csv',\n",
       " 'result_sess_no_150114channel_to_channel_all_interval_with_error_bar.csv',\n",
       " 'result_sess_no_141016channel_to_channel_all_interval_with_error_bar.csv',\n",
       " 'result_sess_no_150224channel_to_channel_all_interval_with_error_bar.csv',\n",
       " 'result_sess_no_150430channel_to_channel_all_interval_with_error_bar.csv',\n",
       " 'result_sess_no_141113channel_to_channel_all_interval_with_error_bar.csv',\n",
       " 'result_sess_no_141023channel_to_channel_all_interval_with_error_bar.csv',\n",
       " 'result_sess_no_150212channel_to_channel_all_interval_with_error_bar.csv',\n",
       " 'result_sess_no_141218channel_to_channel_all_interval_with_error_bar.csv',\n",
       " 'result_sess_no_141103channel_to_channel_all_interval_with_error_bar.csv',\n",
       " 'result_sess_no_150211channel_to_channel_all_interval_with_error_bar.csv',\n",
       " 'result_sess_no_150413channel_to_channel_all_interval_with_error_bar.csv',\n",
       " 'result_sess_no_150213channel_to_channel_all_interval_with_error_bar.csv',\n",
       " 'result_sess_no_150415channel_to_channel_all_interval_with_error_bar.csv',\n",
       " 'result_sess_no_150528channel_to_channel_all_interval_with_error_bar.csv',\n",
       " 'result_sess_no_150414channel_to_channel_all_interval_with_error_bar.csv',\n",
       " 'result_sess_no_150511channel_to_channel_all_interval_with_error_bar.csv',\n",
       " 'result_sess_no_150129channel_to_channel_all_interval_with_error_bar.csv',\n",
       " 'result_sess_no_150128channel_to_channel_all_interval_with_error_bar.csv',\n",
       " 'result_sess_no_141203channel_to_channel_all_interval_with_error_bar.csv',\n",
       " 'result_sess_no_150512channel_to_channel_all_interval_with_error_bar.csv',\n",
       " 'result_sess_no_150403channel_to_channel_all_interval_with_error_bar.csv',\n",
       " 'result_sess_no_141217channel_to_channel_all_interval_with_error_bar.csv',\n",
       " 'result_sess_no_141215channel_to_channel_all_interval_with_error_bar.csv',\n",
       " 'result_sess_no_141014channel_to_channel_all_interval_with_error_bar.csv',\n",
       " 'result_sess_no_141024channel_to_channel_all_interval_with_error_bar.csv',\n",
       " 'result_sess_no_141112channel_to_channel_all_interval_with_error_bar.csv',\n",
       " 'result_sess_no_150226channel_to_channel_all_interval_with_error_bar.csv',\n",
       " 'result_sess_no_150408channel_to_channel_all_interval_with_error_bar.csv',\n",
       " 'result_sess_no_150527channel_to_channel_all_interval_with_error_bar.csv',\n",
       " 'result_sess_no_150429channel_to_channel_all_interval_with_error_bar.csv',\n",
       " 'result_sess_no_150608channel_to_channel_all_interval_with_error_bar.csv',\n",
       " 'result_sess_no_150529channel_to_channel_all_interval_with_error_bar.csv',\n",
       " 'result_sess_no_150219channel_to_channel_all_interval_with_error_bar.csv']"
      ]
     },
     "execution_count": 10,
     "metadata": {},
     "output_type": "execute_result"
    }
   ],
   "source": [
    "file_names"
   ]
  },
  {
   "cell_type": "code",
   "execution_count": 11,
   "metadata": {},
   "outputs": [],
   "source": [
    "session = []\n",
    "for txt in file_names :\n",
    "    session.append(re.findall('\\d+', txt)[0])\n"
   ]
  },
  {
   "cell_type": "code",
   "execution_count": 12,
   "metadata": {},
   "outputs": [
    {
     "data": {
      "text/plain": [
       "62"
      ]
     },
     "execution_count": 12,
     "metadata": {},
     "output_type": "execute_result"
    }
   ],
   "source": [
    "len(session)"
   ]
  },
  {
   "cell_type": "code",
   "execution_count": null,
   "metadata": {
    "scrolled": true
   },
   "outputs": [],
   "source": [
    "session"
   ]
  },
  {
   "cell_type": "code",
   "execution_count": null,
   "metadata": {
    "scrolled": true
   },
   "outputs": [],
   "source": [
    "# path to raw data (for rinfo_path => get area_names)\n",
    "base_path = '/media/rudy/disk2/lucy/'\n",
    "dico_area_to_cortex = io.get_dico_area_to_cortex()\n",
    "\n",
    "for sess_no in session :\n",
    "    print(sess_no)\n",
    "    \n",
    "    # recording info path\n",
    "    rinfo_path = base_path +sess_no+'/session01/' + 'recording_info.mat'\n",
    "    # file path\n",
    "    file_name = '/home/rudy/Python2/regression_linear/result2/' + 'result_sess_no_'+sess_no+'channel_to_channel_all_interval_with_error_bar.csv'\n",
    "       \n",
    "    # load csv file \n",
    "    df = pd.read_csv(file_name)\n",
    "    \n",
    "    # select data\n",
    "    only_correct_trials = True\n",
    "\n",
    "    lowcut1, highcut1, order1 = 7, 12, 3\n",
    "    lowcut2, highcut2, order2 = 7, 12, 3\n",
    "\n",
    "    window_size1 = 200\n",
    "    window_size2 = window_size1 #window_size1 ### 0.72\n",
    "    step = 100\n",
    "    delay = 0\n",
    "\n",
    "    str_freq1 = 'low'+str(lowcut1)+'high'+str(highcut1)+'order'+str(order1)\n",
    "    str_freq2 = 'low'+str(lowcut2)+'high'+str(highcut2)+'order'+str(order2)\n",
    "    \n",
    "    df_cortex = df[(df['str_freq1'] == str_freq1) & (df['str_freq2'] == str_freq2) & (df['window_size1'] == window_size1) & (df['window_size2']==window_size2)]\n",
    "    \n",
    "    # select channels\n",
    "    \n",
    "    target_cortex1 = ['Visual', 'Prefontal', 'Parietal', 'Motor', 'Somatosensory']\n",
    "    target_cortex2 = ['Visual', 'Prefontal', 'Parietal', 'Motor', 'Somatosensory']\n",
    "\n",
    "    target_areas1 = []\n",
    "    for cortex1 in target_cortex1 :\n",
    "        for area in io.get_area_cortex(rinfo_path, cortex1, unique = False):\n",
    "            target_areas1.append(area)\n",
    "    target_areas2 = []\n",
    "    for cortex2 in target_cortex2 :\n",
    "        for area in io.get_area_cortex(rinfo_path, cortex2, unique = False):\n",
    "            target_areas2.append(area)\n",
    "\n",
    "    target1 = collections.Counter(target_areas1)\n",
    "    target2 = collections.Counter(target_areas2)\n",
    "\n",
    "    label1 = []\n",
    "    for area1 in target1 :\n",
    "        for count1 in range(target1[area1]):\n",
    "            label1.append(area1)\n",
    "\n",
    "    label2 = []\n",
    "    for area2 in target2 :\n",
    "        for count2 in range(target2[area2]):\n",
    "            label2.append(area2)\n",
    "            \n",
    "    # easier to select idx with numpy array            \n",
    "    label1 = np.array(label1)\n",
    "    label2 = np.array(label2)\n",
    "    \n",
    "    # print something \n",
    "\n",
    "#     print(label1)\n",
    "#     print(label2)\n",
    "\n",
    "#     print(len(label1))\n",
    "#     print(len(label2))\n",
    "    print('from ', lowcut1,'-',highcut1, ' to ',  lowcut2,'-',highcut2, 'Hz')\n",
    "\n",
    "    # build matrix with all channels\n",
    "    FC = np.zeros( (len(label1), len(label2)))\n",
    "\n",
    "    i=0\n",
    "    for area1 in target1 :\n",
    "        for count1 in range(target1[area1]):\n",
    "            j=0\n",
    "            for area2 in target2 :\n",
    "                for count2 in range(target2[area2]):\n",
    "\n",
    "                    r = df_cortex[ (df_cortex['area1'] == area1) & (df_cortex['num1'] == count1) & (df_cortex['area2'] == area2) & (df_cortex['num2'] == count2)]['r2_test'].values\n",
    "                    if len(r) > 0 :\n",
    "                        #print(i,j)\n",
    "                        FC[i,j] = r[0]\n",
    "\n",
    "                    else :\n",
    "                        print(area1, area2)\n",
    "\n",
    "\n",
    "                    j+=1\n",
    "            i+=1\n",
    "            \n",
    "    # show matrix \n",
    "    fig, ax = plt.subplots(figsize=(15,15))\n",
    "    im = ax.imshow(FC, vmin=0)#, vmax=1.0)# cmap='jet')\n",
    "    fig.colorbar(im)\n",
    "\n",
    "\n",
    "    # We want to show all ticks...\n",
    "    ax.set_xticks(np.arange(len(label2)))\n",
    "    ax.set_yticks(np.arange(len(label1)))\n",
    "    # ... and label them with the respective list entries\n",
    "    ax.set_xticklabels(label2, linespacing=5)\n",
    "    ax.set_yticklabels(label1, linespacing=5)\n",
    "\n",
    "    # Rotate the tick labels and set their alignment.\n",
    "    plt.setp(ax.get_xticklabels(), rotation=0, ha=\"right\",\n",
    "             rotation_mode=\"anchor\")\n",
    "\n",
    "    # Loop over data dimensions and create text annotations.\n",
    "    # for i in range(len(label1)):\n",
    "    #     for j in range(len(label2)):\n",
    "\n",
    "\n",
    "    #         if round(FC[i, j],3) < 0.8* FC.max() :\n",
    "\n",
    "    #             text = ax.text(j, i, round(FC[i, j],1),\n",
    "    #                            ha=\"center\", va=\"center\", color=\"w\")\n",
    "    #         else:\n",
    "    #             text = ax.text(j, i, round(FC[i, j],1),\n",
    "    #                            ha=\"center\", va=\"center\", color=\"b\")\n",
    "\n",
    "\n",
    "    ax.set_title(\"R_squared\")\n",
    "    #fig.tight_layout()\n",
    "    \n",
    "    # save matrix and labels as numpy file (make directory if not exists)\n",
    "    directory = '/home/rudy/Python2/regression_linear/figure/'+sess_no+'/'\n",
    "    if not os.path.exists(directory):\n",
    "        os.makedirs(directory)\n",
    "    np.save(directory +'channel_to_channel_all_cortex_low_'+str(lowcut1)+'_high_'+str(highcut1)+'.npy', FC )\n",
    "    np.save(directory +'label1.npy', label1 )\n",
    "    np.save(directory +'label2.npy', label2 )\n",
    "\n",
    "    # save plot as jpg file\n",
    "    plt.savefig(directory+'channel_to_channel_all_channel_low_'+str(lowcut1)+'_high_'+str(highcut1)+'.jpg')\n",
    "    plt.show()\n",
    "    \n",
    "    \n",
    "    # get cortex of each channel\n",
    "    label1_cortex = []\n",
    "    for area in label1 :\n",
    "        label1_cortex.append(dico_area_to_cortex[area])\n",
    "\n",
    "    label2_cortex = []\n",
    "    for area in label2 :\n",
    "        label2_cortex.append(dico_area_to_cortex[area])\n",
    "\n",
    "    label1_cortex = np.array(label1_cortex)\n",
    "    label2_cortex = np.array(label2_cortex)\n",
    "#     label1 = np.array(label1)\n",
    "#     label2 = np.array(label2)\n",
    "    \n",
    "    # plot matrix cortex by cortex + save it\n",
    "    # only plot r2 score if r2 > threshold : there is a link between the input and the output\n",
    "    threshold = df_cortex['r2_error_bar_test'].max()\n",
    "    for cortex1 in ['Visual', 'Prefontal', 'Parietal', 'Motor', 'Somatosensory']: \n",
    "        ind1 = (label1_cortex ==cortex1)\n",
    "        for cortex2 in ['Visual', 'Prefontal', 'Parietal', 'Motor', 'Somatosensory'] :\n",
    "            print(cortex1, ' to ', cortex2)\n",
    "            ind2 = (label2_cortex==cortex2)\n",
    "            \n",
    "            # select cortex\n",
    "            label1_bis = label1[ind1]\n",
    "            label2_bis = label2[ind2]\n",
    "            if len(label1_bis) ==0 or len(label2_bis)==0:\n",
    "                continue\n",
    "\n",
    "            FC_cortex1_to_cortex2 = FC[ind1, :][:,ind2]\n",
    "            \n",
    "            # save matrix and make directory if not exists            \n",
    "            if not os.path.exists(directory+cortex1+'_to_'+cortex2+'/'):\n",
    "                os.makedirs(directory+cortex1+'_to_'+cortex2+'/')\n",
    "            np.save(directory + cortex1+'_to_'+cortex2+'/channel_to_channel_'+cortex1+'_to_'+cortex2+'__low_'+str(lowcut1)+'_high_'+str(highcut1)+'.npy', FC_cortex1_to_cortex2 )\n",
    "            np.save(directory + cortex1+'_to_'+cortex2+'/label1.npy', label1_bis)\n",
    "            np.save(directory + cortex1+'_to_'+cortex2+'/label2.npy', label2_bis)\n",
    "            \n",
    "\n",
    "\n",
    "            fig, ax = plt.subplots(figsize=(15,15))\n",
    "            #fig, ax = plt.subplots()\n",
    "            im = ax.imshow(FC_cortex1_to_cortex2, vmin=0)#, vmax=1.0)# cmap='jet')\n",
    "            # make the size of the colorbar the same as the picture \n",
    "            divider = make_axes_locatable(ax)\n",
    "            cax = divider.append_axes(\"right\", size=\"5%\", pad=0.10)\n",
    "            fig.colorbar(im, cax=cax)\n",
    "\n",
    "\n",
    "            # We want to show all ticks...\n",
    "            ax.set_xticks(np.arange(len(label2_bis)))\n",
    "            ax.set_yticks(np.arange(len(label1_bis)))\n",
    "            # ... and label them with the respective list entries\n",
    "            ax.set_xticklabels(label2_bis)\n",
    "            ax.set_yticklabels(label1_bis)\n",
    "\n",
    "            # Rotate the tick labels and set their alignment.\n",
    "            plt.setp(ax.get_xticklabels(), rotation=45, ha=\"right\",\n",
    "                     rotation_mode=\"anchor\")\n",
    "\n",
    "            #Loop over data dimensions and create text annotations.\n",
    "            for i in range(len(label1_bis)):\n",
    "                for j in range(len(label2_bis)):\n",
    "                     if FC_cortex1_to_cortex2[i, j] > threshold :\n",
    "                        # plot round number \n",
    "                        # and with black or white according to the color of the pixel\n",
    "\n",
    "                        if round(FC_cortex1_to_cortex2[i, j],3) < 0.8* FC_cortex1_to_cortex2.max() :\n",
    "\n",
    "                            text = ax.text(j, i, round(FC_cortex1_to_cortex2[i, j],1),\n",
    "                                           ha=\"center\", va=\"center\", color=\"w\")\n",
    "                        else:\n",
    "                            text = ax.text(j, i, round(FC_cortex1_to_cortex2[i, j],1),\n",
    "                                           ha=\"center\", va=\"center\", color=\"b\")\n",
    "\n",
    "\n",
    "            ax.set_title(\"R_squared\")\n",
    "            #fig.tight_layout()\n",
    "            \n",
    "            # save figure\n",
    "            plt.savefig(directory + cortex1+'_to_'+cortex2+'/channel_to_channel_'+ cortex1+'_to_'+cortex2+'_low_'+str(lowcut1)+'_high_'+str(highcut1)+'.jpg' )\n",
    "            plt.show()\n",
    "    \n",
    "\n",
    "    \n",
    "    "
   ]
  },
  {
   "cell_type": "code",
   "execution_count": null,
   "metadata": {},
   "outputs": [],
   "source": [
    "### save matrix with time course"
   ]
  },
  {
   "cell_type": "code",
   "execution_count": 13,
   "metadata": {},
   "outputs": [],
   "source": [
    "# path to raw data (for rinfo_path => get area_names)\n",
    "base_path = '/media/rudy/disk2/lucy/'\n",
    "dico_area_to_cortex = io.get_dico_area_to_cortex()"
   ]
  },
  {
   "cell_type": "code",
   "execution_count": 14,
   "metadata": {},
   "outputs": [
    {
     "name": "stdout",
     "output_type": "stream",
     "text": [
      "141017\n"
     ]
    }
   ],
   "source": [
    "#for sess_no in session :\n",
    "sess_no = session[0]\n",
    "print(sess_no)\n",
    "\n",
    "# recording info path\n",
    "rinfo_path = base_path +sess_no+'/session01/' + 'recording_info.mat'\n",
    "# file path\n",
    "file_name = '/home/rudy/Python2/regression_linear/result2/' + 'result_sess_no_'+sess_no+'channel_to_channel_all_interval_with_error_bar.csv'\n",
    "\n",
    "# load csv file \n",
    "df = pd.read_csv(file_name)\n",
    "\n",
    "# select data\n",
    "only_correct_trials = True\n",
    "\n",
    "lowcut1, highcut1, order1 = 7, 12, 3\n",
    "lowcut2, highcut2, order2 = 7, 12, 3\n",
    "\n",
    "window_size1 = 200\n",
    "window_size2 = window_size1 #window_size1 ### 0.72\n",
    "step = 100\n",
    "delay = 0\n",
    "\n",
    "str_freq1 = 'low'+str(lowcut1)+'high'+str(highcut1)+'order'+str(order1)\n",
    "str_freq2 = 'low'+str(lowcut2)+'high'+str(highcut2)+'order'+str(order2)\n",
    "\n",
    "df_cortex = df[(df['str_freq1'] == str_freq1) & (df['str_freq2'] == str_freq2) & (df['window_size1'] == window_size1) & (df['window_size2']==window_size2)]\n",
    "\n",
    "# select "
   ]
  },
  {
   "cell_type": "code",
   "execution_count": 15,
   "metadata": {},
   "outputs": [
    {
     "data": {
      "text/plain": [
       "Index(['session', 'area1', 'num1', 'area2', 'num2', 'cortex1', 'cortex2',\n",
       "       'str_freq1', 'str_freq2', 'window_size1', 'window_size2', 'step',\n",
       "       'delay', 'len(ind_test)', 'len(ind_train)', 'n_chans1', 'n_chans2',\n",
       "       'only_correct_trials', 'r2_train', 'r2_test', 'r2_train_time',\n",
       "       'r2_test_time', 'r2_error_bar_test', 'r2_error_bar_test_time',\n",
       "       'step_list', 'renorm', 'seed'],\n",
       "      dtype='object')"
      ]
     },
     "execution_count": 15,
     "metadata": {},
     "output_type": "execute_result"
    }
   ],
   "source": [
    "df_cortex.keys()"
   ]
  },
  {
   "cell_type": "code",
   "execution_count": 16,
   "metadata": {},
   "outputs": [],
   "source": [
    "r2_test_time = eval(df['r2_test_time'].values[0])"
   ]
  },
  {
   "cell_type": "code",
   "execution_count": 17,
   "metadata": {},
   "outputs": [],
   "source": [
    "error_bar = eval(df['r2_error_bar_test_time'].values[0])"
   ]
  },
  {
   "cell_type": "code",
   "execution_count": 18,
   "metadata": {},
   "outputs": [
    {
     "data": {
      "text/plain": [
       "43"
      ]
     },
     "execution_count": 18,
     "metadata": {},
     "output_type": "execute_result"
    }
   ],
   "source": [
    "len(error_bar)"
   ]
  },
  {
   "cell_type": "code",
   "execution_count": 19,
   "metadata": {},
   "outputs": [],
   "source": [
    "#step_list = df['step_list'].unique()\n",
    "step_list = eval( df['step_list'].values[0] )"
   ]
  },
  {
   "cell_type": "code",
   "execution_count": 20,
   "metadata": {
    "scrolled": true
   },
   "outputs": [],
   "source": [
    "step_list[18]\n",
    "\n",
    "for i in range(18, len(step_list)):\n",
    "    step_list[i] = step_list[i] + 200"
   ]
  },
  {
   "cell_type": "code",
   "execution_count": 21,
   "metadata": {
    "scrolled": true
   },
   "outputs": [
    {
     "data": {
      "text/plain": [
       "43"
      ]
     },
     "execution_count": 21,
     "metadata": {},
     "output_type": "execute_result"
    }
   ],
   "source": [
    "len(step_list)"
   ]
  },
  {
   "cell_type": "code",
   "execution_count": null,
   "metadata": {},
   "outputs": [],
   "source": []
  },
  {
   "cell_type": "code",
   "execution_count": 22,
   "metadata": {},
   "outputs": [
    {
     "data": {
      "text/plain": [
       "[<matplotlib.lines.Line2D at 0x7fc82f7c5748>]"
      ]
     },
     "execution_count": 22,
     "metadata": {},
     "output_type": "execute_result"
    },
    {
     "data": {
      "image/png": "[encoded data removed]",
      "text/plain": [
       "<Figure size 432x288 with 1 Axes>"
      ]
     },
     "metadata": {
      "needs_background": "light"
     },
     "output_type": "display_data"
    }
   ],
   "source": [
    "plt.plot(step_list)"
   ]
  },
  {
   "cell_type": "code",
   "execution_count": 36,
   "metadata": {},
   "outputs": [
    {
     "name": "stdout",
     "output_type": "stream",
     "text": [
      "141017\n",
      "150126\n",
      "150304\n",
      "150305\n",
      "150217\n",
      "150427\n",
      "141126\n",
      "141208\n",
      "150210\n",
      "141216\n",
      "141212\n",
      "141125\n",
      "150504\n",
      "141029\n",
      "150416\n",
      "150223\n",
      "150227\n",
      "141127\n",
      "150302\n",
      "141015\n",
      "141209\n",
      "150428\n",
      "150303\n",
      "141211\n",
      "141128\n",
      "141205\n",
      "150205\n",
      "150407\n",
      "141202\n",
      "150114\n",
      "141016\n",
      "150224\n",
      "150430\n",
      "141113\n",
      "141023\n",
      "150212\n",
      "141218\n",
      "141103\n",
      "150211\n",
      "150413\n",
      "150213\n",
      "150415\n",
      "150528\n",
      "150414\n",
      "150511\n",
      "150129\n",
      "150128\n",
      "141203\n",
      "150512\n",
      "150403\n",
      "141217\n",
      "141215\n",
      "141014\n",
      "141024\n",
      "141112\n",
      "150226\n",
      "150408\n",
      "150527\n",
      "150429\n",
      "150608\n",
      "150529\n",
      "150219\n"
     ]
    }
   ],
   "source": [
    "# path to raw data (for rinfo_path => get area_names)\n",
    "base_path = '/media/rudy/disk2/lucy/'\n",
    "dico_area_to_cortex = io.get_dico_area_to_cortex()\n",
    "\n",
    "for sess_no in session :\n",
    "#sess_no = session[0]\n",
    "    print(sess_no)\n",
    "\n",
    "    # recording info path\n",
    "    rinfo_path = base_path +sess_no+'/session01/' + 'recording_info.mat'\n",
    "    # file path\n",
    "    file_name = '/home/rudy/Python2/regression_linear/result2/' + 'result_sess_no_'+sess_no+'channel_to_channel_all_interval_with_error_bar.csv'\n",
    "\n",
    "    # load csv file \n",
    "    df = pd.read_csv(file_name)\n",
    "\n",
    "    # select data\n",
    "    only_correct_trials = True\n",
    "\n",
    "    lowcut1, highcut1, order1 = 7, 12, 3\n",
    "    lowcut2, highcut2, order2 = 7, 12, 3\n",
    "\n",
    "    window_size1 = 200\n",
    "    window_size2 = window_size1 #window_size1 ### 0.72\n",
    "    step = 100\n",
    "    delay = 0\n",
    "\n",
    "    str_freq1 = 'low'+str(lowcut1)+'high'+str(highcut1)+'order'+str(order1)\n",
    "    str_freq2 = 'low'+str(lowcut2)+'high'+str(highcut2)+'order'+str(order2)\n",
    "\n",
    "    df_cortex = df[(df['str_freq1'] == str_freq1) & (df['str_freq2'] == str_freq2) & (df['window_size1'] == window_size1) & (df['window_size2']==window_size2)]\n",
    "\n",
    "    step_list = eval( df['step_list'].values[0] )\n",
    "    # number of time step (always the same)\n",
    "    n_time = len(step_list)\n",
    "    # correct a mistake => match onset = 2000 (and sample onset = 0)\n",
    "    for i in range(18, len(step_list)):\n",
    "        step_list[i] = step_list[i] + 200\n",
    "\n",
    "\n",
    "    # select channels\n",
    "\n",
    "    target_cortex1 = ['Visual', 'Prefontal', 'Parietal', 'Motor', 'Somatosensory']\n",
    "    target_cortex2 = ['Visual', 'Prefontal', 'Parietal', 'Motor', 'Somatosensory']\n",
    "\n",
    "    target_areas1 = []\n",
    "    for cortex1 in target_cortex1 :\n",
    "        for area in io.get_area_cortex(rinfo_path, cortex1, unique = False):\n",
    "            target_areas1.append(area)\n",
    "    target_areas2 = []\n",
    "    for cortex2 in target_cortex2 :\n",
    "        for area in io.get_area_cortex(rinfo_path, cortex2, unique = False):\n",
    "            target_areas2.append(area)\n",
    "\n",
    "    target1 = collections.Counter(target_areas1)\n",
    "    target2 = collections.Counter(target_areas2)\n",
    "\n",
    "    label1 = []\n",
    "    for area1 in target1 :\n",
    "        for count1 in range(target1[area1]):\n",
    "            label1.append(area1)\n",
    "\n",
    "    label2 = []\n",
    "    for area2 in target2 :\n",
    "        for count2 in range(target2[area2]):\n",
    "            label2.append(area2)\n",
    "\n",
    "    # easier to select idx with numpy array            \n",
    "    label1 = np.array(label1)\n",
    "    label2 = np.array(label2)\n",
    "\n",
    "    # print something \n",
    "\n",
    "    #     print(label1)\n",
    "    #     print(label2)\n",
    "\n",
    "    #     print(len(label1))\n",
    "    #     print(len(label2))\n",
    "\n",
    "    # build matrix with all channels\n",
    "    FC = np.zeros( (len(label1), len(label2), n_time))\n",
    "    FC_error_bar = np.zeros( (len(label1), len(label2), n_time))\n",
    "\n",
    "    i=0\n",
    "    for area1 in target1 :\n",
    "        for count1 in range(target1[area1]):\n",
    "            j=0\n",
    "            for area2 in target2 :\n",
    "                for count2 in range(target2[area2]):\n",
    "                    r2_test_time = eval(df['r2_test_time'].values[0])\n",
    "\n",
    "                    r2_test_time = df_cortex[ (df_cortex['area1'] == area1) & (df_cortex['num1'] == count1) & (df_cortex['area2'] == area2) & (df_cortex['num2'] == count2)]['r2_test_time'].values\n",
    "                    r2_error_bar_test_time = df_cortex[ (df_cortex['area1'] == area1) & (df_cortex['num1'] == count1) & (df_cortex['area2'] == area2) & (df_cortex['num2'] == count2)]['r2_error_bar_test_time'].values\n",
    "                    if len(r2_test_time) > 0 :\n",
    "                        #print(i,j)\n",
    "                        r2_test_time = eval(r2_test_time[0])\n",
    "                        r2_error_bar_test_time = eval(r2_error_bar_test_time[0])\n",
    "\n",
    "                        for t in range(len(r2_test_time)):\n",
    "                            FC[i,j,t] = r2_test_time[t]\n",
    "                            FC_error_bar[i,j,t] = r2_error_bar_test_time[t] \n",
    "\n",
    "                    else :\n",
    "                        print(area1, area2)\n",
    "\n",
    "\n",
    "                    j+=1\n",
    "            i+=1\n",
    "            \n",
    "    step_list = np.array(step_list)\n",
    "    \n",
    "    directory = '/home/rudy/Python2/regression_linear/figure/'+sess_no+'/'    \n",
    "#     np.save(directory +'channel_to_channel_all_cortex_low_'+str(lowcut1)+'_high_'+str(highcut1)+'time_course.npy', FC )\n",
    "    np.save(directory +'channel_to_channel_all_cortex_low_'+str(lowcut1)+'_high_'+str(highcut1)+'time_course_error_bar.npy', FC_error_bar )\n",
    "#     np.save(directory +'time_for_time_course.npy', step_list )\n",
    "#     np.save(directory +'label1.npy', label1 )\n",
    "#     np.save(directory +'label2.npy', label2 )\n",
    "    \n",
    "\n"
   ]
  },
  {
   "cell_type": "code",
   "execution_count": null,
   "metadata": {},
   "outputs": [],
   "source": [
    "# add simple error bar "
   ]
  },
  {
   "cell_type": "code",
   "execution_count": 37,
   "metadata": {},
   "outputs": [
    {
     "name": "stdout",
     "output_type": "stream",
     "text": [
      "141017\n",
      "150126\n",
      "150304\n",
      "150305\n",
      "150217\n",
      "150427\n",
      "141126\n",
      "141208\n",
      "150210\n",
      "141216\n",
      "141212\n",
      "141125\n",
      "150504\n",
      "141029\n",
      "150416\n",
      "150223\n",
      "150227\n",
      "141127\n",
      "150302\n",
      "141015\n",
      "141209\n",
      "150428\n",
      "150303\n",
      "141211\n",
      "141128\n",
      "141205\n",
      "150205\n",
      "150407\n",
      "141202\n",
      "150114\n",
      "141016\n",
      "150224\n",
      "150430\n",
      "141113\n",
      "141023\n",
      "150212\n",
      "141218\n",
      "141103\n",
      "150211\n",
      "150413\n",
      "150213\n",
      "150415\n",
      "150528\n",
      "150414\n",
      "150511\n",
      "150129\n",
      "150128\n",
      "141203\n",
      "150512\n",
      "150403\n",
      "141217\n",
      "141215\n",
      "141014\n",
      "141024\n",
      "141112\n",
      "150226\n",
      "150408\n",
      "150527\n",
      "150429\n",
      "150608\n",
      "150529\n",
      "150219\n"
     ]
    }
   ],
   "source": [
    "base_path = '/media/rudy/disk2/lucy/'\n",
    "dico_area_to_cortex = io.get_dico_area_to_cortex()\n",
    "\n",
    "for sess_no in session :\n",
    "#sess_no = session[0]\n",
    "    print(sess_no)\n",
    "\n",
    "    # recording info path\n",
    "    rinfo_path = base_path +sess_no+'/session01/' + 'recording_info.mat'\n",
    "    # file path\n",
    "    file_name = '/home/rudy/Python2/regression_linear/result2/' + 'result_sess_no_'+sess_no+'channel_to_channel_all_interval_with_error_bar.csv'\n",
    "\n",
    "    # load csv file \n",
    "    df = pd.read_csv(file_name)\n",
    "\n",
    "    # select data\n",
    "    only_correct_trials = True\n",
    "\n",
    "    lowcut1, highcut1, order1 = 7, 12, 3\n",
    "    lowcut2, highcut2, order2 = 7, 12, 3\n",
    "\n",
    "    window_size1 = 200\n",
    "    window_size2 = window_size1 #window_size1 ### 0.72\n",
    "    step = 100\n",
    "    delay = 0\n",
    "\n",
    "    str_freq1 = 'low'+str(lowcut1)+'high'+str(highcut1)+'order'+str(order1)\n",
    "    str_freq2 = 'low'+str(lowcut2)+'high'+str(highcut2)+'order'+str(order2)\n",
    "\n",
    "    df_cortex = df[(df['str_freq1'] == str_freq1) & (df['str_freq2'] == str_freq2) & (df['window_size1'] == window_size1) & (df['window_size2']==window_size2)]\n",
    "\n",
    "    step_list = eval( df['step_list'].values[0] )\n",
    "    # number of time step (always the same)\n",
    "    n_time = len(step_list)\n",
    "    # correct a mistake => match onset = 2000 (and sample onset = 0)\n",
    "    for i in range(18, len(step_list)):\n",
    "        step_list[i] = step_list[i] + 200\n",
    "\n",
    "\n",
    "    # select channels\n",
    "\n",
    "    target_cortex1 = ['Visual', 'Prefontal', 'Parietal', 'Motor', 'Somatosensory']\n",
    "    target_cortex2 = ['Visual', 'Prefontal', 'Parietal', 'Motor', 'Somatosensory']\n",
    "\n",
    "    target_areas1 = []\n",
    "    for cortex1 in target_cortex1 :\n",
    "        for area in io.get_area_cortex(rinfo_path, cortex1, unique = False):\n",
    "            target_areas1.append(area)\n",
    "    target_areas2 = []\n",
    "    for cortex2 in target_cortex2 :\n",
    "        for area in io.get_area_cortex(rinfo_path, cortex2, unique = False):\n",
    "            target_areas2.append(area)\n",
    "\n",
    "    target1 = collections.Counter(target_areas1)\n",
    "    target2 = collections.Counter(target_areas2)\n",
    "\n",
    "    label1 = []\n",
    "    for area1 in target1 :\n",
    "        for count1 in range(target1[area1]):\n",
    "            label1.append(area1)\n",
    "\n",
    "    label2 = []\n",
    "    for area2 in target2 :\n",
    "        for count2 in range(target2[area2]):\n",
    "            label2.append(area2)\n",
    "\n",
    "    # easier to select idx with numpy array            \n",
    "    label1 = np.array(label1)\n",
    "    label2 = np.array(label2)\n",
    "\n",
    "    # print something \n",
    "\n",
    "    #     print(label1)\n",
    "    #     print(label2)\n",
    "\n",
    "    #     print(len(label1))\n",
    "    #     print(len(label2))\n",
    "\n",
    "    # build matrix with all channels\n",
    "    #FC = np.zeros( (len(label1), len(label2), n_time))\n",
    "    FC_error_bar = np.zeros( (len(label1), len(label2)))\n",
    "\n",
    "    i=0\n",
    "    for area1 in target1 :\n",
    "        for count1 in range(target1[area1]):\n",
    "            j=0\n",
    "            for area2 in target2 :\n",
    "                for count2 in range(target2[area2]):\n",
    "\n",
    "                    \n",
    "                    error_bar = df_cortex[ (df_cortex['area1'] == area1) & (df_cortex['num1'] == count1) & (df_cortex['area2'] == area2) & (df_cortex['num2'] == count2)]['r2_error_bar_test'].values\n",
    "                    if len(error_bar) > 0 :\n",
    "                        #print(i,j)\n",
    "                        FC_error_bar[i,j] = error_bar[0]\n",
    "\n",
    "                    else :\n",
    "                        print(area1, area2)\n",
    "\n",
    "\n",
    "                    j+=1\n",
    "            i+=1\n",
    "            \n",
    "    step_list = np.array(step_list)\n",
    "    \n",
    "    directory = '/home/rudy/Python2/regression_linear/figure/'+sess_no+'/'    \n",
    "#     np.save(directory +'channel_to_channel_all_cortex_low_'+str(lowcut1)+'_high_'+str(highcut1)+'time_course.npy', FC )\n",
    "    np.save(directory +'channel_to_channel_all_cortex_low_'+str(lowcut1)+'_high_'+str(highcut1)+'_error_bar.npy', FC_error_bar )\n",
    "#     np.save(directory +'time_for_time_course.npy', step_list )\n",
    "#     np.save(directory +'label1.npy', label1 )\n",
    "#     np.save(directory +'label2.npy', label2 )"
   ]
  },
  {
   "cell_type": "code",
   "execution_count": null,
   "metadata": {},
   "outputs": [],
   "source": [
    "FC.shape"
   ]
  },
  {
   "cell_type": "code",
   "execution_count": 27,
   "metadata": {},
   "outputs": [
    {
     "data": {
      "image/png": "[encoded data removed]",
      "text/plain": [
       "<Figure size 432x288 with 1 Axes>"
      ]
     },
     "metadata": {
      "needs_background": "light"
     },
     "output_type": "display_data"
    }
   ],
   "source": [
    "import numpy as np\n",
    "import matplotlib.pyplot as plt\n",
    "import matplotlib.animation as animation\n",
    "\n",
    "fig = plt.figure()\n",
    "\n",
    "\n",
    "# def f(x, y):\n",
    "#     return np.sin(x) + np.cos(y)\n",
    "\n",
    "# x = np.linspace(0, 2 * np.pi, 120)\n",
    "# y = np.linspace(0, 2 * np.pi, 100).reshape(-1, 1)\n",
    "# ims is a list of lists, each row is a list of artists to draw in the\n",
    "# current frame; here we are just animating one artist, the image, in\n",
    "# each frame\n",
    "ims = []\n",
    "for i in range(FC.shape[2]):\n",
    "#     x += np.pi / 15.\n",
    "#     y += np.pi / 20.\n",
    "    im = plt.imshow(FC[:,:,i], animated=True)\n",
    "    ims.append([im])\n",
    "\n",
    "ani = animation.ArtistAnimation(fig, ims)\n",
    "\n",
    "#ani.save('dynamic_images.mp4')\n",
    "\n",
    "plt.show()"
   ]
  },
  {
   "cell_type": "code",
   "execution_count": null,
   "metadata": {},
   "outputs": [],
   "source": []
  },
  {
   "cell_type": "code",
   "execution_count": null,
   "metadata": {},
   "outputs": [],
   "source": [
    "y.shape"
   ]
  },
  {
   "cell_type": "code",
   "execution_count": 25,
   "metadata": {},
   "outputs": [
    {
     "data": {
      "image/png": "[encoded data removed]",
      "text/plain": [
       "<Figure size 432x288 with 1 Axes>"
      ]
     },
     "metadata": {
      "needs_background": "light"
     },
     "output_type": "display_data"
    }
   ],
   "source": [
    "# hmpf = np.ones([4,4])\n",
    "# hmpf[2][1] = 0\n",
    "# imagelist = [ hmpf*i*255./19. for i in range(20) ]\n",
    "#%matplotlib qt\n",
    "import numpy as np\n",
    "import matplotlib.pyplot as plt\n",
    "import matplotlib.animation as animation\n",
    "fig = plt.figure() # make figure\n",
    "\n",
    "# make axesimage object\n",
    "# the vmin and vmax here are very important to get the color map correct\n",
    "im = plt.imshow(FC[:,:,0])# cmap=plt.get_cmap('jet'), vmin=0, vmax=255)\n",
    "\n",
    "# function to update figure\n",
    "def updatefig(j):\n",
    "    # set the data in the axesimage object\n",
    "    im.set_array(FC[:,:,j])\n",
    "    # return the artists set\n",
    "    return [im]\n",
    "# kick off the animation\n",
    "ani = animation.FuncAnimation(fig, updatefig)\n",
    "plt.show()"
   ]
  },
  {
   "cell_type": "code",
   "execution_count": 33,
   "metadata": {},
   "outputs": [
    {
     "data": {
      "image/png": "[encoded data removed]",
      "text/plain": [
       "<Figure size 432x288 with 1 Axes>"
      ]
     },
     "metadata": {
      "needs_background": "light"
     },
     "output_type": "display_data"
    },
    {
     "ename": "KeyboardInterrupt",
     "evalue": "",
     "output_type": "error",
     "traceback": [
      "\u001b[0;31m---------------------------------------------------------------------------\u001b[0m",
      "\u001b[0;31mKeyboardInterrupt\u001b[0m                         Traceback (most recent call last)",
      "\u001b[0;32m<ipython-input-33-0d82dd78e235>\u001b[0m in \u001b[0;36m<module>\u001b[0;34m()\u001b[0m\n\u001b[1;32m     13\u001b[0m     \u001b[0;32melse\u001b[0m\u001b[0;34m:\u001b[0m\u001b[0;34m\u001b[0m\u001b[0m\n\u001b[1;32m     14\u001b[0m         \u001b[0mline\u001b[0m\u001b[0;34m.\u001b[0m\u001b[0mset_ydata\u001b[0m\u001b[0;34m(\u001b[0m\u001b[0my\u001b[0m\u001b[0;34m)\u001b[0m\u001b[0;34m\u001b[0m\u001b[0m\n\u001b[0;32m---> 15\u001b[0;31m     \u001b[0mplt\u001b[0m\u001b[0;34m.\u001b[0m\u001b[0mpause\u001b[0m\u001b[0;34m(\u001b[0m\u001b[0;36m1\u001b[0m\u001b[0;34m)\u001b[0m \u001b[0;31m# pause avec duree en secondes\u001b[0m\u001b[0;34m\u001b[0m\u001b[0m\n\u001b[0m\u001b[1;32m     16\u001b[0m     \u001b[0mt\u001b[0m \u001b[0;34m=\u001b[0m \u001b[0mt\u001b[0m \u001b[0;34m+\u001b[0m \u001b[0mdt\u001b[0m\u001b[0;34m\u001b[0m\u001b[0m\n\u001b[1;32m     17\u001b[0m \u001b[0;34m\u001b[0m\u001b[0m\n",
      "\u001b[0;32m~/miniconda3/lib/python3.6/site-packages/matplotlib/pyplot.py\u001b[0m in \u001b[0;36mpause\u001b[0;34m(interval)\u001b[0m\n\u001b[1;32m    296\u001b[0m         \u001b[0mcanvas\u001b[0m\u001b[0;34m.\u001b[0m\u001b[0mstart_event_loop\u001b[0m\u001b[0;34m(\u001b[0m\u001b[0minterval\u001b[0m\u001b[0;34m)\u001b[0m\u001b[0;34m\u001b[0m\u001b[0m\n\u001b[1;32m    297\u001b[0m     \u001b[0;32melse\u001b[0m\u001b[0;34m:\u001b[0m\u001b[0;34m\u001b[0m\u001b[0m\n\u001b[0;32m--> 298\u001b[0;31m         \u001b[0mtime\u001b[0m\u001b[0;34m.\u001b[0m\u001b[0msleep\u001b[0m\u001b[0;34m(\u001b[0m\u001b[0minterval\u001b[0m\u001b[0;34m)\u001b[0m\u001b[0;34m\u001b[0m\u001b[0m\n\u001b[0m\u001b[1;32m    299\u001b[0m \u001b[0;34m\u001b[0m\u001b[0m\n\u001b[1;32m    300\u001b[0m \u001b[0;34m\u001b[0m\u001b[0m\n",
      "\u001b[0;31mKeyboardInterrupt\u001b[0m: "
     ]
    }
   ],
   "source": [
    "%matplotlib inline\n",
    "\n",
    "x = np.linspace(0, 3, 100)\n",
    "k = 2*np.pi\n",
    "w = 2*np.pi\n",
    "dt = 0.1  \n",
    "\n",
    "t = 0\n",
    "for i in range(50):\n",
    "    y = np.cos(k*x - w*t)\n",
    "    if i == 0:\n",
    "        line, = plt.plot(x, y)\n",
    "    else:\n",
    "        line.set_ydata(y)\n",
    "    plt.pause(1) # pause avec duree en secondes\n",
    "    t = t + dt\n",
    "    \n",
    "plt.show()\n"
   ]
  },
  {
   "cell_type": "code",
   "execution_count": null,
   "metadata": {},
   "outputs": [],
   "source": [
    "plt.imshow(FC[:,:,0])"
   ]
  },
  {
   "cell_type": "code",
   "execution_count": null,
   "metadata": {},
   "outputs": [],
   "source": [
    "n_chans1 = 0\n",
    "n_chans2 = 5\n",
    "\n",
    "plt.errorbar(step_list[:18], np.round(FC[n_chans1, n_chans2, :18],5),yerr=np.round(FC_error_bar[n_chans1, n_chans2,:18],5), color='blue')\n",
    "plt.errorbar(step_list[18:], np.round(FC[n_chans1, n_chans2, 18:],5),yerr=np.round(FC_error_bar[n_chans1,n_chans2,18:],5), color='blue')\n",
    "\n",
    "plt.ylim(bottom=0)\n",
    "\n",
    "plt.axvline(x= 0, color='r',label='sample')\n",
    "plt.axvline(x= 500, color='r', linestyle= '--',label='sample off')\n",
    "plt.axvline(x= 2000, color='g',label='match')\n",
    "plt.legend()\n",
    "plt.show()"
   ]
  },
  {
   "cell_type": "code",
   "execution_count": null,
   "metadata": {},
   "outputs": [],
   "source": [
    "step_list[:19]"
   ]
  },
  {
   "cell_type": "code",
   "execution_count": null,
   "metadata": {},
   "outputs": [],
   "source": [
    "################ SAME but for one session and step by step"
   ]
  },
  {
   "cell_type": "code",
   "execution_count": null,
   "metadata": {},
   "outputs": [],
   "source": [
    "file_name = '/home/rudy/Python2/regression_linear/result2/' + 'result_sess_no_'+sess_no+'channel_to_channel_all_interval_with_error_bar.csv'\n",
    "\n",
    "\n",
    "df = pd.read_csv(file_name)"
   ]
  },
  {
   "cell_type": "code",
   "execution_count": null,
   "metadata": {},
   "outputs": [],
   "source": [
    "df"
   ]
  },
  {
   "cell_type": "code",
   "execution_count": null,
   "metadata": {},
   "outputs": [],
   "source": [
    "df.keys()"
   ]
  },
  {
   "cell_type": "code",
   "execution_count": null,
   "metadata": {},
   "outputs": [],
   "source": [
    "print(np.unique(df['cortex1']))\n",
    "print(np.unique(df['cortex2']))\n",
    "\n",
    "\n",
    "print(np.unique(df['str_freq1']))\n",
    "print(np.unique(df['str_freq2']))\n",
    "\n",
    "print(np.unique(df['window_size1']))\n",
    "print(np.unique(df['window_size2']))\n",
    "\n",
    "print(np.unique(df['only_correct_trials']))"
   ]
  },
  {
   "cell_type": "code",
   "execution_count": null,
   "metadata": {},
   "outputs": [],
   "source": [
    "# cortex1 = 'Visual'\n",
    "# cortex2 = 'Prefontal'"
   ]
  },
  {
   "cell_type": "code",
   "execution_count": null,
   "metadata": {},
   "outputs": [],
   "source": [
    "# select\n",
    "# -800 sample + 500 + 600 ++ -600 match + 2000\n",
    "\n",
    "only_correct_trials = True\n",
    "\n",
    "\n",
    "lowcut1, highcut1, order1 = 7, 12, 3\n",
    "\n",
    "lowcut2, highcut2, order2 = 7, 12, 3\n",
    "\n",
    "window_size1 = 200\n",
    "window_size2 = window_size1 #window_size1 ### 0.72\n",
    "step = 100\n",
    "delay = 0\n",
    "\n",
    "str_freq1 = 'low'+str(lowcut1)+'high'+str(highcut1)+'order'+str(order1)\n",
    "str_freq2 = 'low'+str(lowcut2)+'high'+str(highcut2)+'order'+str(order2)\n",
    "\n"
   ]
  },
  {
   "cell_type": "code",
   "execution_count": null,
   "metadata": {},
   "outputs": [],
   "source": [
    "# df_cortex = df[(df['cortex1'] == cortex1) & (df['cortex2'] == cortex2) & (df['str_freq1'] == str_freq1) & (df['str_freq2'] == str_freq2) & (df['window_size1'] == window_size1) & (df['window_size2']==window_size2)]\n",
    "df_cortex = df[(df['str_freq1'] == str_freq1) & (df['str_freq2'] == str_freq2) & (df['window_size1'] == window_size1) & (df['window_size2']==window_size2)]"
   ]
  },
  {
   "cell_type": "code",
   "execution_count": null,
   "metadata": {},
   "outputs": [],
   "source": [
    "df_cortex"
   ]
  },
  {
   "cell_type": "code",
   "execution_count": null,
   "metadata": {},
   "outputs": [],
   "source": [
    "base_path = '/media/rudy/disk2/lucy/'\n",
    "#sess_no ='150128'\n",
    "rinfo_path = base_path +sess_no+'/session01/' + 'recording_info.mat'"
   ]
  },
  {
   "cell_type": "code",
   "execution_count": null,
   "metadata": {},
   "outputs": [],
   "source": [
    "import collections"
   ]
  },
  {
   "cell_type": "code",
   "execution_count": null,
   "metadata": {},
   "outputs": [],
   "source": [
    "#collections.Counter(io.get_area_cortex(rinfo_path, cortex1, unique = False))"
   ]
  },
  {
   "cell_type": "code",
   "execution_count": null,
   "metadata": {},
   "outputs": [],
   "source": [
    "#areas = np.unique(df_cortex['area1'].values)\n"
   ]
  },
  {
   "cell_type": "code",
   "execution_count": null,
   "metadata": {},
   "outputs": [],
   "source": [
    "df_cortex.keys()"
   ]
  },
  {
   "cell_type": "code",
   "execution_count": null,
   "metadata": {
    "scrolled": true
   },
   "outputs": [],
   "source": [
    "target_cortex1 = ['Visual', 'Prefontal', 'Parietal', 'Motor', 'Somatosensory']\n",
    "target_cortex2 = ['Visual', 'Prefontal', 'Parietal', 'Motor', 'Somatosensory']\n",
    "\n",
    "target_areas1 = []\n",
    "for cortex1 in target_cortex1 :\n",
    "    for area in io.get_area_cortex(rinfo_path, cortex1, unique = False):\n",
    "        target_areas1.append(area)\n",
    "target_areas2 = []\n",
    "for cortex2 in target_cortex2 :\n",
    "    for area in io.get_area_cortex(rinfo_path, cortex2, unique = False):\n",
    "        target_areas2.append(area)\n",
    "\n",
    "target1 = collections.Counter(target_areas1)\n",
    "target2 = collections.Counter(target_areas2)\n",
    "\n",
    "label1 = []\n",
    "for area1 in target1 :\n",
    "    for count1 in range(target1[area1]):\n",
    "        label1.append(area1)\n",
    "        \n",
    "label2 = []\n",
    "for area2 in target2 :\n",
    "    for count2 in range(target2[area2]):\n",
    "        label2.append(area2)\n",
    "        \n",
    "print(label1)\n",
    "print(label2)\n",
    "\n",
    "print(len(label1))\n",
    "print(len(label2))\n",
    "\n",
    "FC = np.zeros( (len(label1), len(label2)))\n",
    "\n",
    "i=0\n",
    "\n",
    "for area1 in target1 :\n",
    "    for count1 in range(target1[area1]):\n",
    "        j=0\n",
    "        for area2 in target2 :\n",
    "            for count2 in range(target2[area2]):\n",
    "                \n",
    "                r = df_cortex[ (df_cortex['area1'] == area1) & (df_cortex['num1'] == count1) & (df_cortex['area2'] == area2) & (df_cortex['num2'] == count2)]['r2_test'].values\n",
    "                if len(r) > 0 :\n",
    "                    #print(i,j)\n",
    "                    FC[i,j] = r[0]\n",
    "    \n",
    "                else :\n",
    "                    print(area1, area2)\n",
    "                    \n",
    "                \n",
    "                j+=1\n",
    "        i+=1\n",
    "                \n",
    "                \n",
    "        \n"
   ]
  },
  {
   "cell_type": "code",
   "execution_count": null,
   "metadata": {},
   "outputs": [],
   "source": [
    "FC.shape"
   ]
  },
  {
   "cell_type": "code",
   "execution_count": null,
   "metadata": {},
   "outputs": [],
   "source": [
    "# print('from ', cortex1, 'to ', cortex2)\n",
    "\n",
    "threshold = df_cortex['r2_error_bar_test'].max()\n",
    "\n",
    "\n",
    "print('from ', lowcut1,'-',highcut1, ' to ',  lowcut2,'-',highcut2, 'Hz')\n",
    "fig, ax = plt.subplots(figsize=(15,15))\n",
    "im = ax.imshow(FC, vmin=0)#, vmax=1.0)# cmap='jet')\n",
    "fig.colorbar(im)\n",
    "\n",
    "\n",
    "# We want to show all ticks...\n",
    "ax.set_xticks(np.arange(len(label2)))\n",
    "ax.set_yticks(np.arange(len(label1)))\n",
    "# ... and label them with the respective list entries\n",
    "ax.set_xticklabels(label2, linespacing=5)\n",
    "ax.set_yticklabels(label1, linespacing=5)\n",
    "\n",
    "# Rotate the tick labels and set their alignment.\n",
    "plt.setp(ax.get_xticklabels(), rotation=0, ha=\"right\",\n",
    "         rotation_mode=\"anchor\")\n",
    "\n",
    "# Loop over data dimensions and create text annotations.\n",
    "# for i in range(len(label1)):\n",
    "#     for j in range(len(label2)):\n",
    "\n",
    "            \n",
    "#         if round(FC[i, j],3) < 0.8* FC.max() :\n",
    "\n",
    "#             text = ax.text(j, i, round(FC[i, j],1),\n",
    "#                            ha=\"center\", va=\"center\", color=\"w\")\n",
    "#         else:\n",
    "#             text = ax.text(j, i, round(FC[i, j],1),\n",
    "#                            ha=\"center\", va=\"center\", color=\"b\")\n",
    "            \n",
    "\n",
    "ax.set_title(\"R_squared\")\n",
    "#fig.tight_layout()\n",
    "\n",
    "# directory = '/home/rudy/Python2/auto_encodeur_with_stimulus/figure/global/'+cortex1+'_to_'+cortex2+'/'\n",
    "# if not os.path.exists(directory):\n",
    "#     os.makedirs(directory)\n",
    "\n",
    "\n",
    "# plt.savefig('/home/rudy/Python2/auto_encodeur_with_stimulus/figure/global/'+cortex1+'_to_'+cortex2+'/channel_to_channel_'+cortex1+'_to_'+cortex2+'_low'+str(lowcut1)+'high'+str(highcut1)+'align_on'+str(align_on1)+'from_time'+str(from_time1)+'to_time'+str(to_time1)+'.jpg')\n",
    "plt.show()"
   ]
  },
  {
   "cell_type": "code",
   "execution_count": null,
   "metadata": {},
   "outputs": [],
   "source": [
    "dico_area_to_cortex = io.get_dico_area_to_cortex()"
   ]
  },
  {
   "cell_type": "code",
   "execution_count": null,
   "metadata": {
    "scrolled": true
   },
   "outputs": [],
   "source": [
    "dico_area_to_cortex = io.get_dico_area_to_cortex()\n",
    "\n",
    "label1_cortex = []\n",
    "for area in label1 :\n",
    "    label1_cortex.append(dico_area_to_cortex[area])\n",
    "    \n",
    "label2_cortex = []\n",
    "for area in label2 :\n",
    "    label2_cortex.append(dico_area_to_cortex[area])\n",
    "    \n",
    "label1_cortex = np.array(label1_cortex)\n",
    "label2_cortex = np.array(label2_cortex)\n",
    "label1 = np.array(label1)\n",
    "label2 = np.array(label2)"
   ]
  },
  {
   "cell_type": "code",
   "execution_count": null,
   "metadata": {
    "scrolled": true
   },
   "outputs": [],
   "source": [
    "print('from ', lowcut1,'-',highcut1, ' to ',  lowcut2,'-',highcut2, 'Hz')\n",
    "threshold = df_cortex['r2_error_bar_test'].max()\n",
    "for cortex1 in ['Visual','Prefontal', 'Parietal', 'Motor', 'Somatosensory' ]:\n",
    "\n",
    "    ind1 = (label1_cortex ==cortex1)\n",
    "    for cortex2 in ['Visual','Prefontal', 'Parietal', 'Motor', 'Somatosensory' ]:\n",
    "        print(cortex1, ' to ', cortex2)\n",
    "        ind2 = (label2_cortex==cortex2)\n",
    "\n",
    "        label1_bis = label1[ind1]\n",
    "        label2_bis = label2[ind2]\n",
    "\n",
    "        FC_cortex1_to_cortex2 = FC[ind1, :][:,ind2]\n",
    "\n",
    "\n",
    "        fig, ax = plt.subplots(figsize=(15,15))\n",
    "        #fig, ax = plt.subplots()\n",
    "        im = ax.imshow(FC_cortex1_to_cortex2, vmin=0)#, vmax=1.0)# cmap='jet')\n",
    "        divider = make_axes_locatable(ax)\n",
    "        cax = divider.append_axes(\"right\", size=\"5%\", pad=0.10)\n",
    "        fig.colorbar(im, cax=cax)\n",
    "\n",
    "\n",
    "        # We want to show all ticks...\n",
    "        ax.set_xticks(np.arange(len(label2_bis)))\n",
    "        ax.set_yticks(np.arange(len(label1_bis)))\n",
    "        # ... and label them with the respective list entries\n",
    "        ax.set_xticklabels(label2_bis)\n",
    "        ax.set_yticklabels(label1_bis)\n",
    "\n",
    "        # Rotate the tick labels and set their alignment.\n",
    "        plt.setp(ax.get_xticklabels(), rotation=45, ha=\"right\",\n",
    "                 rotation_mode=\"anchor\")\n",
    "\n",
    "        #Loop over data dimensions and create text annotations.\n",
    "        for i in range(len(label1_bis)):\n",
    "            for j in range(len(label2_bis)):\n",
    "                 if FC_cortex1_to_cortex2[i, j] > threshold :\n",
    "\n",
    "                    if round(FC_cortex1_to_cortex2[i, j],3) < 0.8* FC_cortex1_to_cortex2.max() :\n",
    "\n",
    "                        text = ax.text(j, i, round(FC_cortex1_to_cortex2[i, j],1),\n",
    "                                       ha=\"center\", va=\"center\", color=\"w\")\n",
    "                    else:\n",
    "                        text = ax.text(j, i, round(FC_cortex1_to_cortex2[i, j],1),\n",
    "                                       ha=\"center\", va=\"center\", color=\"b\")\n",
    "\n",
    "\n",
    "        ax.set_title(\"R_squared\")\n",
    "        #fig.tight_layout()\n",
    "\n",
    "        # directory = '/home/rudy/Python2/auto_encodeur_with_stimulus/figure/global/'+cortex1+'_to_'+cortex2+'/'\n",
    "        # if not os.path.exists(directory):\n",
    "        #     os.makedirs(directory)\n",
    "\n",
    "\n",
    "        # plt.savefig('/home/rudy/Python2/auto_encodeur_with_stimulus/figure/global/'+cortex1+'_to_'+cortex2+'/channel_to_channel_'+cortex1+'_to_'+cortex2+'_low'+str(lowcut1)+'high'+str(highcut1)+'align_on'+str(align_on1)+'from_time'+str(from_time1)+'to_time'+str(to_time1)+'.jpg')\n",
    "        plt.show()\n",
    "    "
   ]
  }
 ],
 "metadata": {
  "kernelspec": {
   "display_name": "Python 3",
   "language": "python",
   "name": "python3"
  },
  "language_info": {
   "codemirror_mode": {
    "name": "ipython",
    "version": 3
   },
   "file_extension": ".py",
   "mimetype": "text/x-python",
   "name": "python",
   "nbconvert_exporter": "python",
   "pygments_lexer": "ipython3",
   "version": "3.6.5"
  }
 },
 "nbformat": 4,
 "nbformat_minor": 2
}
